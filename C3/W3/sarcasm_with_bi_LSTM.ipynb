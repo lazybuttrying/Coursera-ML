{
  "nbformat": 4,
  "nbformat_minor": 0,
  "metadata": {
    "colab": {
      "name": "sarcasm_with_bi_LSTM",
      "provenance": [],
      "collapsed_sections": [],
      "authorship_tag": "ABX9TyNw1TnROxn9yWn8lljqkeM2",
      "include_colab_link": true
    },
    "kernelspec": {
      "name": "python3",
      "display_name": "Python 3"
    },
    "language_info": {
      "name": "python"
    }
  },
  "cells": [
    {
      "cell_type": "markdown",
      "metadata": {
        "id": "view-in-github",
        "colab_type": "text"
      },
      "source": [
        "<a href=\"https://colab.research.google.com/github/lazybuttrying/Deep-Learning-Specialization/blob/main/C3/W3/sarcasm_with_bi_LSTM.ipynb\" target=\"_parent\"><img src=\"https://colab.research.google.com/assets/colab-badge.svg\" alt=\"Open In Colab\"/></a>"
      ]
    },
    {
      "cell_type": "markdown",
      "metadata": {
        "id": "4IZRG7PGQF5D"
      },
      "source": [
        "# Introduction\n",
        "뉴스 기사의 헤드라인(영문장)을 통하여 sarcasm (비꼬는 기사) 인지 아닌지 여부를 판단하는 classification 문제입니다.\n",
        "\n",
        "캐글 대회 링크 News Headlines Dataset For Sarcasm Detection : https://www.kaggle.com/rmisra/news-headlines-dataset-for-sarcasm-detection"
      ]
    },
    {
      "cell_type": "markdown",
      "metadata": {
        "id": "BUsHhpO8EimH"
      },
      "source": [
        "# 🐱‍🏍 Import"
      ]
    },
    {
      "cell_type": "code",
      "metadata": {
        "colab": {
          "base_uri": "https://localhost:8080/",
          "height": 0
        },
        "id": "WOdBx3rgDEVI",
        "outputId": "60bf973a-68f8-4224-ac59-3ad34cadffb1"
      },
      "source": [
        "import numpy as np\n",
        "\n",
        "import json\n",
        "import tensorflow as tf\n",
        "\n",
        "from tensorflow.keras.preprocessing.text import Tokenizer\n",
        "from tensorflow.keras.preprocessing.sequence import pad_sequences\n",
        "\n",
        "\n",
        "import urllib\n",
        "# sarcasm.json\n",
        "url = 'https://storage.googleapis.com/download.tensorflow.org/data/sarcasm.json'\n",
        "urllib.request.urlretrieve(url, 'sarcasm.json')"
      ],
      "execution_count": 1,
      "outputs": [
        {
          "output_type": "execute_result",
          "data": {
            "text/plain": [
              "('sarcasm.json', <http.client.HTTPMessage at 0x7ffb5d359d50>)"
            ]
          },
          "metadata": {},
          "execution_count": 1
        }
      ]
    },
    {
      "cell_type": "markdown",
      "metadata": {
        "id": "1AxuI7gcEr-b"
      },
      "source": [
        "# 📄 Prepare Dataset"
      ]
    },
    {
      "cell_type": "code",
      "metadata": {
        "colab": {
          "base_uri": "https://localhost:8080/",
          "height": 0
        },
        "id": "_ook1iyQDIMG",
        "outputId": "479a0a53-dbb6-4d36-bcae-2b1f44dd4302"
      },
      "source": [
        "with open(\"sarcasm.json\", 'r') as f:\n",
        "    datastore = json.load(f)\n",
        "datastore[:5]"
      ],
      "execution_count": 2,
      "outputs": [
        {
          "output_type": "execute_result",
          "data": {
            "text/plain": [
              "[{'article_link': 'https://www.huffingtonpost.com/entry/versace-black-code_us_5861fbefe4b0de3a08f600d5',\n",
              "  'headline': \"former versace store clerk sues over secret 'black code' for minority shoppers\",\n",
              "  'is_sarcastic': 0},\n",
              " {'article_link': 'https://www.huffingtonpost.com/entry/roseanne-revival-review_us_5ab3a497e4b054d118e04365',\n",
              "  'headline': \"the 'roseanne' revival catches up to our thorny political mood, for better and worse\",\n",
              "  'is_sarcastic': 0},\n",
              " {'article_link': 'https://local.theonion.com/mom-starting-to-fear-son-s-web-series-closest-thing-she-1819576697',\n",
              "  'headline': \"mom starting to fear son's web series closest thing she will have to grandchild\",\n",
              "  'is_sarcastic': 1},\n",
              " {'article_link': 'https://politics.theonion.com/boehner-just-wants-wife-to-listen-not-come-up-with-alt-1819574302',\n",
              "  'headline': 'boehner just wants wife to listen, not come up with alternative debt-reduction ideas',\n",
              "  'is_sarcastic': 1},\n",
              " {'article_link': 'https://www.huffingtonpost.com/entry/jk-rowling-wishes-snape-happy-birthday_us_569117c4e4b0cad15e64fdcb',\n",
              "  'headline': 'j.k. rowling wishes snape happy birthday in the most magical way',\n",
              "  'is_sarcastic': 0}]"
            ]
          },
          "metadata": {},
          "execution_count": 2
        }
      ]
    },
    {
      "cell_type": "code",
      "metadata": {
        "colab": {
          "base_uri": "https://localhost:8080/",
          "height": 0
        },
        "id": "RCREt0IBEeU4",
        "outputId": "2310aff4-8be0-44d5-a992-f2eb9f1a2099"
      },
      "source": [
        "sentences = []\n",
        "labels = []\n",
        "urls = []\n",
        "for item in datastore:\n",
        "    sentences.append(item['headline'])\n",
        "    labels.append(item['is_sarcastic'])\n",
        "\n",
        "training_size = 20000\n",
        "training_sentences = sentences[0:training_size]\n",
        "testing_sentences = sentences[training_size:]\n",
        "training_labels = labels[0:training_size]\n",
        "testing_labels = labels[training_size:]\n",
        "\n",
        "# Look Up data\n",
        "print(len(training_sentences), len(testing_sentences))\n",
        "print(len(training_labels), len(testing_labels))\n",
        "print(training_sentences[0])\n",
        "print(training_labels[0])"
      ],
      "execution_count": 3,
      "outputs": [
        {
          "output_type": "stream",
          "name": "stdout",
          "text": [
            "20000 6709\n",
            "20000 6709\n",
            "former versace store clerk sues over secret 'black code' for minority shoppers\n",
            "0\n"
          ]
        }
      ]
    },
    {
      "cell_type": "markdown",
      "metadata": {
        "id": "-0eygWdVFC9X"
      },
      "source": [
        "# 🥏 Initialize Hyperparameters"
      ]
    },
    {
      "cell_type": "code",
      "metadata": {
        "id": "AvJ-c2BxEJeA"
      },
      "source": [
        "vocab_size = 1000 # 빈도가 높은 1000개의 단어만 활용하겠다 -> 1000차원\n",
        "embedding_dim = 16 # 1000차원을 16차원으로 : Data Sparasity 해결\n",
        "max_length = 120\n",
        "trunc_type='post'\n",
        "padding_type='post'\n",
        "oov_tok = \"<OOV>\""
      ],
      "execution_count": 4,
      "outputs": []
    },
    {
      "cell_type": "markdown",
      "metadata": {
        "id": "DqFfZHg4FjDc"
      },
      "source": [
        "# ✂️ Tokenize"
      ]
    },
    {
      "cell_type": "code",
      "metadata": {
        "colab": {
          "base_uri": "https://localhost:8080/",
          "height": 0
        },
        "id": "vzuzTUHeGFav",
        "outputId": "4ed4a1e9-3e89-4039-c7b8-066ba3abb339"
      },
      "source": [
        "tokenizer = Tokenizer(num_words=vocab_size, oov_token=oov_tok)\n",
        "tokenizer.fit_on_texts(training_sentences)\n",
        "\n",
        "word_index = tokenizer.word_index\n",
        "for key, val in word_index.items():\n",
        "  print(key, val) # key=단어, value=인덱스\n",
        "  break"
      ],
      "execution_count": 5,
      "outputs": [
        {
          "output_type": "stream",
          "name": "stdout",
          "text": [
            "<OOV> 1\n"
          ]
        }
      ]
    },
    {
      "cell_type": "code",
      "metadata": {
        "colab": {
          "base_uri": "https://localhost:8080/",
          "height": 0
        },
        "id": "sH2gr0s-HUXe",
        "outputId": "7a878ab1-c2c8-48c9-b26a-6b225f494109"
      },
      "source": [
        "print(type(word_index), len(word_index))\n",
        "# 실제로는 25637개만 있지만 모델에는 1000 단어만 활용"
      ],
      "execution_count": 6,
      "outputs": [
        {
          "output_type": "stream",
          "name": "stdout",
          "text": [
            "<class 'dict'> 25637\n"
          ]
        }
      ]
    },
    {
      "cell_type": "markdown",
      "metadata": {
        "id": "gEbrSZuKHjbb"
      },
      "source": [
        "# 🐍 Change to Sequence"
      ]
    },
    {
      "cell_type": "code",
      "metadata": {
        "colab": {
          "base_uri": "https://localhost:8080/",
          "height": 0
        },
        "id": "4ulsxZfuH7L6",
        "outputId": "b4a5cf32-f46c-473f-b8ed-a2822740f64d"
      },
      "source": [
        "training_sequences = tokenizer.texts_to_sequences(training_sentences)\n",
        "testing_sequences = tokenizer.texts_to_sequences(testing_sentences)\n",
        "print(training_sentences[0])"
      ],
      "execution_count": 7,
      "outputs": [
        {
          "output_type": "stream",
          "name": "stdout",
          "text": [
            "former versace store clerk sues over secret 'black code' for minority shoppers\n"
          ]
        }
      ]
    },
    {
      "cell_type": "markdown",
      "metadata": {
        "id": "hEvW-anSJ_aU"
      },
      "source": [
        "# 🌫️ Padding: Match the lenght of all setence"
      ]
    },
    {
      "cell_type": "code",
      "metadata": {
        "id": "rBMyvAATKEeM"
      },
      "source": [
        "# maxlen을 기준으로\n",
        "# 길이가 짧은 문장은 0이나 특정 상수로 채워주거나\n",
        "# 길이가 긴 문장은 앞/뒷부분을 잘라냄 \n",
        "# trunc_type='post', padding_type='post'\n",
        "\n",
        "training_padded = pad_sequences(training_sequences, maxlen=max_length, padding=padding_type, truncating=trunc_type)\n",
        "testing_padded = pad_sequences(testing_sequences, maxlen=max_length, padding=padding_type, truncating=trunc_type)"
      ],
      "execution_count": 8,
      "outputs": []
    },
    {
      "cell_type": "code",
      "metadata": {
        "colab": {
          "base_uri": "https://localhost:8080/",
          "height": 0
        },
        "id": "On6KrDsILwFl",
        "outputId": "0699b50d-ef81-4cda-9edd-1fbb07a8288a"
      },
      "source": [
        "training_padded[0]"
      ],
      "execution_count": 9,
      "outputs": [
        {
          "output_type": "execute_result",
          "data": {
            "text/plain": [
              "array([328,   1, 799,   1,   1,  47, 389,   1,   1,   6,   1,   1,   0,\n",
              "         0,   0,   0,   0,   0,   0,   0,   0,   0,   0,   0,   0,   0,\n",
              "         0,   0,   0,   0,   0,   0,   0,   0,   0,   0,   0,   0,   0,\n",
              "         0,   0,   0,   0,   0,   0,   0,   0,   0,   0,   0,   0,   0,\n",
              "         0,   0,   0,   0,   0,   0,   0,   0,   0,   0,   0,   0,   0,\n",
              "         0,   0,   0,   0,   0,   0,   0,   0,   0,   0,   0,   0,   0,\n",
              "         0,   0,   0,   0,   0,   0,   0,   0,   0,   0,   0,   0,   0,\n",
              "         0,   0,   0,   0,   0,   0,   0,   0,   0,   0,   0,   0,   0,\n",
              "         0,   0,   0,   0,   0,   0,   0,   0,   0,   0,   0,   0,   0,\n",
              "         0,   0,   0], dtype=int32)"
            ]
          },
          "metadata": {},
          "execution_count": 9
        }
      ]
    },
    {
      "cell_type": "markdown",
      "metadata": {
        "id": "fKMUwvUgK4gK"
      },
      "source": [
        "# ⭐ Casting to numpy array"
      ]
    },
    {
      "cell_type": "code",
      "metadata": {
        "id": "vDAei3Z6K2Xf"
      },
      "source": [
        "# list type is not valid for training. \n",
        "training_padded = np.array(training_padded)\n",
        "training_labels = np.array(training_labels)\n",
        "testing_padded = np.array(testing_padded)\n",
        "testing_labels = np.array(testing_labels)"
      ],
      "execution_count": 10,
      "outputs": []
    },
    {
      "cell_type": "code",
      "metadata": {
        "colab": {
          "base_uri": "https://localhost:8080/",
          "height": 0
        },
        "id": "6AJpPGffLrn6",
        "outputId": "9308e166-0f96-4305-c38c-ff594570c854"
      },
      "source": [
        "training_padded[0], training_labels[0]"
      ],
      "execution_count": 11,
      "outputs": [
        {
          "output_type": "execute_result",
          "data": {
            "text/plain": [
              "(array([328,   1, 799,   1,   1,  47, 389,   1,   1,   6,   1,   1,   0,\n",
              "          0,   0,   0,   0,   0,   0,   0,   0,   0,   0,   0,   0,   0,\n",
              "          0,   0,   0,   0,   0,   0,   0,   0,   0,   0,   0,   0,   0,\n",
              "          0,   0,   0,   0,   0,   0,   0,   0,   0,   0,   0,   0,   0,\n",
              "          0,   0,   0,   0,   0,   0,   0,   0,   0,   0,   0,   0,   0,\n",
              "          0,   0,   0,   0,   0,   0,   0,   0,   0,   0,   0,   0,   0,\n",
              "          0,   0,   0,   0,   0,   0,   0,   0,   0,   0,   0,   0,   0,\n",
              "          0,   0,   0,   0,   0,   0,   0,   0,   0,   0,   0,   0,   0,\n",
              "          0,   0,   0,   0,   0,   0,   0,   0,   0,   0,   0,   0,   0,\n",
              "          0,   0,   0], dtype=int32), 0)"
            ]
          },
          "metadata": {},
          "execution_count": 11
        }
      ]
    },
    {
      "cell_type": "markdown",
      "metadata": {
        "id": "oc3PbxnRMDQi"
      },
      "source": [
        "# 🕋 Define Model"
      ]
    },
    {
      "cell_type": "code",
      "metadata": {
        "colab": {
          "base_uri": "https://localhost:8080/",
          "height": 0
        },
        "id": "hZIxJxXqC9Sd",
        "outputId": "3adc53b9-5afc-4d84-9d76-77d3c30d66f4"
      },
      "source": [
        "model = tf.keras.Sequential([\n",
        "    tf.keras.layers.Embedding(vocab_size, embedding_dim, input_length=max_length),\n",
        "    tf.keras.layers.Bidirectional(tf.keras.layers.LSTM(32)),\n",
        "    tf.keras.layers.Dense(24, activation='relu'),\n",
        "    tf.keras.layers.Dense(1, activation='sigmoid')\n",
        "])\n",
        "'''\n",
        "model = tf.keras.Sequential([\n",
        "    # YOUR CODE HERE\n",
        "    tf.keras.layers.Embedding(vocab_size+1, embedding_dim, input_length=max_length, weights=[embeddings_matrix], trainable=False),\n",
        "    tf.keras.layers.Dropout(0.2),\n",
        "    tf.keras.layers.Conv1D(64, 5, activation='relu'),\n",
        "    tf.keras.layers.MaxPooling1D(pool_size=4),\n",
        "    tf.keras.layers.LSTM(64),\n",
        "    tf.keras.layers.Dense(1, activation='sigmoid')\n",
        "])\n",
        "'''\n",
        "\n",
        "model.summary()"
      ],
      "execution_count": 12,
      "outputs": [
        {
          "output_type": "stream",
          "name": "stdout",
          "text": [
            "Model: \"sequential\"\n",
            "_________________________________________________________________\n",
            " Layer (type)                Output Shape              Param #   \n",
            "=================================================================\n",
            " embedding (Embedding)       (None, 120, 16)           16000     \n",
            "                                                                 \n",
            " bidirectional (Bidirectiona  (None, 64)               12544     \n",
            " l)                                                              \n",
            "                                                                 \n",
            " dense (Dense)               (None, 24)                1560      \n",
            "                                                                 \n",
            " dense_1 (Dense)             (None, 1)                 25        \n",
            "                                                                 \n",
            "=================================================================\n",
            "Total params: 30,129\n",
            "Trainable params: 30,129\n",
            "Non-trainable params: 0\n",
            "_________________________________________________________________\n"
          ]
        }
      ]
    },
    {
      "cell_type": "code",
      "metadata": {
        "id": "gnHdmXcEOdEQ"
      },
      "source": [
        "model.compile(loss='binary_crossentropy', # 0,1 이므로 binary_crossentropty\n",
        "              optimizer='adam',\n",
        "              metrics=['accuracy'])"
      ],
      "execution_count": 13,
      "outputs": []
    },
    {
      "cell_type": "markdown",
      "metadata": {
        "id": "WLv2OtRzMTw_"
      },
      "source": [
        "# 🏃‍♂️ fit: training model"
      ]
    },
    {
      "cell_type": "code",
      "metadata": {
        "colab": {
          "base_uri": "https://localhost:8080/",
          "height": 0
        },
        "id": "GZC5Hm_4SHxd",
        "outputId": "6e91583c-b33c-4b8e-a5b3-7a254ad2f4a8"
      },
      "source": [
        "%ls"
      ],
      "execution_count": 14,
      "outputs": [
        {
          "output_type": "stream",
          "name": "stdout",
          "text": [
            "\u001b[0m\u001b[01;34msample_data\u001b[0m/  sarcasm.json\n"
          ]
        }
      ]
    },
    {
      "cell_type": "code",
      "metadata": {
        "id": "1yRkFs0uONWx"
      },
      "source": [
        "model_save_path = \"./\"\n",
        "checkpoint = tf.keras.callbacks.ModelCheckpoint(model_save_path, \n",
        "                                                save_weights_only=True, \n",
        "                                                save_best_only=True, \n",
        "                                                monitor='val_loss',\n",
        "                                                verbose=1)\n"
      ],
      "execution_count": 15,
      "outputs": []
    },
    {
      "cell_type": "code",
      "metadata": {
        "colab": {
          "base_uri": "https://localhost:8080/",
          "height": 0
        },
        "id": "R8Hc_UOXMSgy",
        "outputId": "65c08e64-42bf-45f4-ae80-161b2d051a21"
      },
      "source": [
        "num_epochs = 10\n",
        "\n",
        "history = model.fit(training_padded, training_labels, \n",
        "                    epochs=num_epochs, \n",
        "                    validation_data=(testing_padded, testing_labels), \n",
        "                    callbacks = [checkpoint],\n",
        "                    verbose=1,)"
      ],
      "execution_count": 16,
      "outputs": [
        {
          "output_type": "stream",
          "name": "stdout",
          "text": [
            "Epoch 1/10\n",
            "625/625 [==============================] - ETA: 0s - loss: 0.4562 - accuracy: 0.7710\n",
            "Epoch 00001: val_loss improved from inf to 0.38682, saving model to ./\n",
            "625/625 [==============================] - 39s 57ms/step - loss: 0.4562 - accuracy: 0.7710 - val_loss: 0.3868 - val_accuracy: 0.8250\n",
            "Epoch 2/10\n",
            "625/625 [==============================] - ETA: 0s - loss: 0.3481 - accuracy: 0.8400\n",
            "Epoch 00002: val_loss improved from 0.38682 to 0.37395, saving model to ./\n",
            "625/625 [==============================] - 35s 56ms/step - loss: 0.3481 - accuracy: 0.8400 - val_loss: 0.3740 - val_accuracy: 0.8305\n",
            "Epoch 3/10\n",
            "625/625 [==============================] - ETA: 0s - loss: 0.3231 - accuracy: 0.8539\n",
            "Epoch 00003: val_loss improved from 0.37395 to 0.36703, saving model to ./\n",
            "625/625 [==============================] - 36s 58ms/step - loss: 0.3231 - accuracy: 0.8539 - val_loss: 0.3670 - val_accuracy: 0.8356\n",
            "Epoch 4/10\n",
            "624/625 [============================>.] - ETA: 0s - loss: 0.3083 - accuracy: 0.8600\n",
            "Epoch 00004: val_loss did not improve from 0.36703\n",
            "625/625 [==============================] - 35s 56ms/step - loss: 0.3082 - accuracy: 0.8601 - val_loss: 0.3701 - val_accuracy: 0.8353\n",
            "Epoch 5/10\n",
            "625/625 [==============================] - ETA: 0s - loss: 0.2965 - accuracy: 0.8679\n",
            "Epoch 00005: val_loss did not improve from 0.36703\n",
            "625/625 [==============================] - 35s 55ms/step - loss: 0.2965 - accuracy: 0.8679 - val_loss: 0.3726 - val_accuracy: 0.8319\n",
            "Epoch 6/10\n",
            "625/625 [==============================] - ETA: 0s - loss: 0.2877 - accuracy: 0.8724\n",
            "Epoch 00006: val_loss did not improve from 0.36703\n",
            "625/625 [==============================] - 38s 61ms/step - loss: 0.2877 - accuracy: 0.8724 - val_loss: 0.3777 - val_accuracy: 0.8317\n",
            "Epoch 7/10\n",
            "625/625 [==============================] - ETA: 0s - loss: 0.2794 - accuracy: 0.8766\n",
            "Epoch 00007: val_loss did not improve from 0.36703\n",
            "625/625 [==============================] - 36s 57ms/step - loss: 0.2794 - accuracy: 0.8766 - val_loss: 0.3807 - val_accuracy: 0.8323\n",
            "Epoch 8/10\n",
            "625/625 [==============================] - ETA: 0s - loss: 0.2725 - accuracy: 0.8805\n",
            "Epoch 00008: val_loss did not improve from 0.36703\n",
            "625/625 [==============================] - 35s 56ms/step - loss: 0.2725 - accuracy: 0.8805 - val_loss: 0.3864 - val_accuracy: 0.8320\n",
            "Epoch 9/10\n",
            "625/625 [==============================] - ETA: 0s - loss: 0.2660 - accuracy: 0.8823\n",
            "Epoch 00009: val_loss did not improve from 0.36703\n",
            "625/625 [==============================] - 35s 56ms/step - loss: 0.2660 - accuracy: 0.8823 - val_loss: 0.4007 - val_accuracy: 0.8271\n",
            "Epoch 10/10\n",
            "625/625 [==============================] - ETA: 0s - loss: 0.2588 - accuracy: 0.8874\n",
            "Epoch 00010: val_loss did not improve from 0.36703\n",
            "625/625 [==============================] - 36s 57ms/step - loss: 0.2588 - accuracy: 0.8874 - val_loss: 0.4249 - val_accuracy: 0.8259\n"
          ]
        }
      ]
    },
    {
      "cell_type": "markdown",
      "metadata": {
        "id": "tkCupYkOTmNf"
      },
      "source": [
        "# 💿 Get a best model"
      ]
    },
    {
      "cell_type": "code",
      "metadata": {
        "id": "1g9iFEpvTli2"
      },
      "source": [
        "model.load_weights(model_save_path)\n",
        "model.save(\"sarcasm_with_bi_LSTM.h5\")\n",
        "\n",
        "# https://teddylee777.github.io/tensorflow/news-sarcasm\n",
        "# Dense Layer를 깊게 쌓아 보거나,\n",
        "# Conv1D 혹은 LSTM을 두 겹으로 쌓는 식으로 모델을 개선해보자"
      ],
      "execution_count": 17,
      "outputs": []
    },
    {
      "cell_type": "markdown",
      "metadata": {
        "id": "p8vMisycMsV_"
      },
      "source": [
        "#📈 Plot accuracy & loss"
      ]
    },
    {
      "cell_type": "code",
      "metadata": {
        "colab": {
          "base_uri": "https://localhost:8080/",
          "height": 541
        },
        "id": "d88ZtP_8MnqB",
        "outputId": "a55415d1-d2ca-4b95-9742-cc6acd03a73c"
      },
      "source": [
        "import matplotlib.pyplot as plt\n",
        "%matplotlib inline\n",
        "\n",
        "def plot_graphs(history, string):\n",
        "  plt.plot(history.history[string])\n",
        "  plt.plot(history.history['val_'+string])\n",
        "  plt.xlabel(\"Epochs\")\n",
        "  plt.ylabel(string)\n",
        "  plt.legend([string, 'val_'+string])\n",
        "  plt.show()\n",
        "\n",
        "plot_graphs(history, 'accuracy')\n",
        "plot_graphs(history, 'loss')"
      ],
      "execution_count": 18,
      "outputs": [
        {
          "output_type": "display_data",
          "data": {
            "image/png": "[encoded data removed]",
            "text/plain": [
              "<Figure size 432x288 with 1 Axes>"
            ]
          },
          "metadata": {
            "needs_background": "light"
          }
        },
        {
          "output_type": "display_data",
          "data": {
            "image/png": "[encoded data removed]",
            "text/plain": [
              "<Figure size 432x288 with 1 Axes>"
            ]
          },
          "metadata": {
            "needs_background": "light"
          }
        }
      ]
    },
    {
      "cell_type": "markdown",
      "metadata": {
        "id": "HiqO335lbXUw"
      },
      "source": [
        "# +) How to use \"Glove\" : Pre-trained word embedding\n",
        "vocab_size를 가장 많이 사용된 단어 1000개로 한정하지 않고\n",
        "word_index 속 전체 단어 길이로 할 수 있게 된다\n",
        "\n",
        "\n",
        "embedding_dim 값이 100, 200, 300, 50 중 하나여야 한다\n",
        "\n",
        "glove.6B.100d.txt\n",
        "\n",
        "glove.6B.200d.txt\n",
        "\n",
        "glove.6B.300d.txt\n",
        "\n",
        "glove.6B.50d.txt"
      ]
    },
    {
      "cell_type": "code",
      "metadata": {
        "colab": {
          "base_uri": "https://localhost:8080/"
        },
        "id": "7BgQDzLlZoCw",
        "outputId": "a3048d94-951d-4633-a25b-4877747d1094"
      },
      "source": [
        "# glove.6B.100d.txt\n",
        "!gdown --id 1W5vZy2etitAblLdFn8_DxnsQKzfFJ98g\n",
        "\n",
        "vocab_size = len(word_index)\n",
        "embedding_dim = 100\n",
        "embeddings_index = {};\n",
        "with open('./glove.6B.100d.txt') as f:\n",
        "    for line in f:\n",
        "        values = line.split();\n",
        "        word = values[0];\n",
        "        coefs = np.asarray(values[1:], dtype='float32');\n",
        "        embeddings_index[word] = coefs;\n",
        "\n",
        "embeddings_matrix = np.zeros((vocab_size+1, embedding_dim));\n",
        "for word, i in word_index.items():\n",
        "    embedding_vector = embeddings_index.get(word);\n",
        "    if embedding_vector is not None:\n",
        "        embeddings_matrix[i] = embedding_vector;"
      ],
      "execution_count": 21,
      "outputs": [
        {
          "output_type": "stream",
          "name": "stdout",
          "text": [
            "Downloading...\n",
            "From: https://drive.google.com/uc?id=1W5vZy2etitAblLdFn8_DxnsQKzfFJ98g\n",
            "To: /content/glove.6B.100d.txt\n",
            "100% 347M/347M [00:05<00:00, 63.3MB/s]\n"
          ]
        }
      ]
    },
    {
      "cell_type": "code",
      "metadata": {
        "id": "Gc61IHhPaiNj"
      },
      "source": [
        "model = tf.keras.Sequential([\n",
        "    # YOUR CODE HERE\n",
        "    tf.keras.layers.Embedding(vocab_size+1, embedding_dim, input_length=max_length, \n",
        "                              weights=[embeddings_matrix], ######## 여기에 생성한 embeddings_matrix 추가\n",
        "                              trainable=False),\n",
        "    tf.keras.layers.Dropout(0.2),\n",
        "    tf.keras.layers.Conv1D(64, 5, activation='relu'),\n",
        "    tf.keras.layers.MaxPooling1D(pool_size=4),\n",
        "    tf.keras.layers.LSTM(64),\n",
        "    tf.keras.layers.Dense(1, activation='sigmoid')\n",
        "])"
      ],
      "execution_count": null,
      "outputs": []
    }
  ]
}